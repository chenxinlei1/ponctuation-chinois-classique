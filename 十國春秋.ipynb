{
 "cells": [
  {
   "cell_type": "code",
   "execution_count": 1,
   "id": "f1650bf5",
   "metadata": {},
   "outputs": [],
   "source": [
    "import re\n",
    "import json\n",
    "import os\n",
    "\n",
    "def preprocess(text):\n",
    "    punctuations = \"，。！？；：“”（）\"\n",
    "    input_text = \"\"\n",
    "    punctuation_indices = []\n",
    "    punctuation_types = []\n",
    "\n",
    "    for idx, char in enumerate(text):\n",
    "        if char in punctuations:\n",
    "            punctuation_indices.append(len(input_text))\n",
    "            punctuation_types.append(char)\n",
    "        else:\n",
    "            input_text += char\n",
    "\n",
    "    return input_text, punctuation_indices, punctuation_types\n"
   ]
  },
  {
   "cell_type": "code",
   "execution_count": 2,
   "id": "2649090c",
   "metadata": {},
   "outputs": [],
   "source": [
    "def process_folder(folder_path, output_file):\n",
    "    data_points = []\n",
    "\n",
    "    for filename in os.listdir(folder_path):\n",
    "        if filename.endswith(\".txt\"):\n",
    "            file_path = os.path.join(folder_path, filename)\n",
    "            with open(file_path, 'r', encoding='utf-8') as f:\n",
    "                lines = f.readlines()\n",
    "                for i, line in enumerate(lines):\n",
    "                    line = line.strip()\n",
    "                    if not line:\n",
    "                        continue  # 跳过空行\n",
    "                    input_text, indices, types = preprocess(line)\n",
    "                    data_point = {\n",
    "                        \"filename\": filename,\n",
    "                        \"line_number\": i + 1,\n",
    "                        \"input_text\": input_text,\n",
    "                        \"punctuation_indices\": indices,\n",
    "                        \"punctuation_types\": types\n",
    "                    }\n",
    "                    data_points.append(data_point)\n",
    "\n",
    "    # 写入 JSONL 文件\n",
    "    with open(output_file, 'w', encoding='utf-8') as out_f:\n",
    "        for dp in data_points:\n",
    "            out_f.write(json.dumps(dp, ensure_ascii=False) + \"\\n\")\n",
    "\n",
    "    print(f\"✅ 共处理了 {len(data_points)} 条 data points，输出文件：{output_file}\")"
   ]
  },
  {
   "cell_type": "code",
   "execution_count": 3,
   "id": "baf09c72",
   "metadata": {},
   "outputs": [
    {
     "name": "stdout",
     "output_type": "stream",
     "text": [
      "✅ 共处理了 6774 条 data points，输出文件：processed_data_sgcq.jsonl\n"
     ]
    }
   ],
   "source": [
    "if __name__ == \"__main__\":\n",
    "    folder_path = \"Corpus/十國春秋_cleaned\"  # 这里填你的 txt 文件夹路径\n",
    "    output_file = \"processed_data_sgcq.jsonl\"  # 输出文件名\n",
    "    process_folder(folder_path, output_file)"
   ]
  },
  {
   "cell_type": "code",
   "execution_count": 4,
   "id": "eb3f1134",
   "metadata": {},
   "outputs": [
    {
     "name": "stderr",
     "output_type": "stream",
     "text": [
      "Processing: 6774it [00:00, 127553.75it/s]\n"
     ]
    }
   ],
   "source": [
    "import json\n",
    "from tqdm import tqdm\n",
    "\n",
    "# 标点映射为数字标签\n",
    "punctuation_map = {\n",
    "    \"，\": 1,\n",
    "    \"。\": 2,\n",
    "    \"？\": 3,\n",
    "    \"！\": 4,\n",
    "    \"；\": 5,\n",
    "    \"：\": 6,\n",
    "    \"“\": 7,\n",
    "    \"”\": 7,\n",
    "    \"‘\": 8,\n",
    "    \"’\": 8,\n",
    "    \"（\": 9,\n",
    "    \"）\": 9\n",
    "}\n",
    "\n",
    "# 字符级输入和标签构造\n",
    "def build_dataset(jsonl_path, vocab=None):\n",
    "    all_X = []\n",
    "    all_y = []\n",
    "    char2idx = {} if vocab is None else vocab\n",
    "    idx = 1  # 0留给padding\n",
    "\n",
    "    with open(jsonl_path, 'r', encoding='utf-8') as f:\n",
    "        for line in tqdm(f, desc=\"Processing\"):\n",
    "            data = json.loads(line)\n",
    "            input_text = data[\"input_text\"]\n",
    "            punct_indices = data[\"punctuation_indices\"]\n",
    "            punct_types = data[\"punctuation_types\"]\n",
    "\n",
    "            # 编码 input_text 为字符ID序列\n",
    "            X = []\n",
    "            for ch in input_text:\n",
    "                if vocab is None:\n",
    "                    if ch not in char2idx:\n",
    "                        char2idx[ch] = idx\n",
    "                        idx += 1\n",
    "                X.append(char2idx.get(ch, 0))  # 0 表示未登录词\n",
    "\n",
    "            # 构造标签序列：与字符对齐（每个字后一个标记）\n",
    "            y = [0] * len(input_text)\n",
    "            for i, punct in zip(punct_indices, punct_types):\n",
    "                if i < len(y):  # 安全检查\n",
    "                    y[i] = punctuation_map.get(punct, 0)  # 未知标点归为0（不加）\n",
    "\n",
    "            all_X.append(X)\n",
    "            all_y.append(y)\n",
    "\n",
    "    return all_X, all_y, char2idx\n",
    "\n",
    "X, y, char2idx = build_dataset(\"processed_data_sgcq.jsonl\")\n",
    "\n",
    "with open(\"char2idx.json\", \"w\", encoding=\"utf-8\") as f:\n",
    "    json.dump(char2idx, f, ensure_ascii=False)\n",
    "\n"
   ]
  },
  {
   "cell_type": "code",
   "execution_count": 5,
   "id": "d1de9bf2",
   "metadata": {},
   "outputs": [
    {
     "name": "stderr",
     "output_type": "stream",
     "text": [
      "Processing: 6774it [00:00, 69818.49it/s]"
     ]
    },
    {
     "name": "stdout",
     "output_type": "stream",
     "text": [
      "样本数量： 6774\n",
      "第一个输入序列（字符ID）: [1, 2, 3, 4, 5, 6, 7, 8, 9, 2, 5, 10, 11, 12, 2, 3, 4, 5, 13, 6, 7, 8, 14, 2, 15, 16]\n",
      "第一个标签序列： [0, 0, 0, 0, 0, 0, 0, 0, 0, 0, 0, 0, 0, 0, 0, 0, 0, 0, 0, 0, 0, 0, 0, 0, 0, 0]\n",
      "字符表大小： 5166\n"
     ]
    },
    {
     "name": "stderr",
     "output_type": "stream",
     "text": [
      "\n"
     ]
    }
   ],
   "source": [
    "jsonl_file = \"processed_data_sgcq.jsonl\"\n",
    "X, y, vocab = build_dataset(jsonl_file)\n",
    "\n",
    "print(\"样本数量：\", len(X))\n",
    "print(\"第一个输入序列（字符ID）:\", X[0])\n",
    "print(\"第一个标签序列：\", y[0])\n",
    "print(\"字符表大小：\", len(vocab))\n"
   ]
  },
  {
   "cell_type": "code",
   "execution_count": 6,
   "id": "40afcc84",
   "metadata": {},
   "outputs": [],
   "source": [
    "# !pip install tensorflow"
   ]
  },
  {
   "cell_type": "code",
   "execution_count": 8,
   "id": "c5ebba23",
   "metadata": {},
   "outputs": [
    {
     "name": "stderr",
     "output_type": "stream",
     "text": [
      "Processing: 6774it [00:00, 101110.37it/s]\n"
     ]
    }
   ],
   "source": [
    "from tensorflow.keras.models import Model\n",
    "from tensorflow.keras.layers import Input, Embedding, Bidirectional, LSTM, Dense, TimeDistributed\n",
    "from tensorflow.keras.optimizers import Adam\n",
    "from tensorflow.keras.preprocessing.sequence import pad_sequences\n",
    "import numpy as np\n",
    "\n",
    "def build_punctuation_model(vocab_size, num_classes, embedding_dim=128, lstm_units=128):\n",
    "    input_seq = Input(shape=(None,), dtype='int32')  # [batch_size, seq_len]\n",
    "\n",
    "    x = Embedding(input_dim=vocab_size + 1, output_dim=embedding_dim, mask_zero=True)(input_seq)\n",
    "    x = Bidirectional(LSTM(lstm_units, return_sequences=True))(x)\n",
    "    x = TimeDistributed(Dense(num_classes, activation='softmax'))(x)\n",
    "\n",
    "    model = Model(inputs=input_seq, outputs=x)\n",
    "    model.compile(optimizer=Adam(learning_rate=1e-3),\n",
    "                  loss='sparse_categorical_crossentropy',\n",
    "                  metrics=['accuracy'])\n",
    "    return model\n",
    "\n",
    "X, y, char2idx = build_dataset(\"processed_data_sgcq.jsonl\")\n",
    "max_len = max(len(seq) for seq in X)\n",
    "X_pad = pad_sequences(X, maxlen=max_len, padding='post')\n",
    "y_pad = pad_sequences(y, maxlen=max_len, padding='post')\n",
    "y_pad = np.expand_dims(y_pad, -1)\n"
   ]
  },
  {
   "cell_type": "code",
   "execution_count": 9,
   "id": "f5ba809c",
   "metadata": {},
   "outputs": [
    {
     "name": "stdout",
     "output_type": "stream",
     "text": [
      "Epoch 1/10\n",
      "\u001b[1m191/191\u001b[0m \u001b[32m━━━━━━━━━━━━━━━━━━━━\u001b[0m\u001b[37m\u001b[0m \u001b[1m20s\u001b[0m 92ms/step - accuracy: 0.9076 - loss: 0.8607 - val_accuracy: 0.9286 - val_loss: 0.4120\n",
      "Epoch 2/10\n",
      "\u001b[1m191/191\u001b[0m \u001b[32m━━━━━━━━━━━━━━━━━━━━\u001b[0m\u001b[37m\u001b[0m \u001b[1m20s\u001b[0m 104ms/step - accuracy: 0.9276 - loss: 0.3921 - val_accuracy: 0.9367 - val_loss: 0.3311\n",
      "Epoch 3/10\n",
      "\u001b[1m191/191\u001b[0m \u001b[32m━━━━━━━━━━━━━━━━━━━━\u001b[0m\u001b[37m\u001b[0m \u001b[1m20s\u001b[0m 107ms/step - accuracy: 0.9345 - loss: 0.3268 - val_accuracy: 0.9418 - val_loss: 0.2964\n",
      "Epoch 4/10\n",
      "\u001b[1m191/191\u001b[0m \u001b[32m━━━━━━━━━━━━━━━━━━━━\u001b[0m\u001b[37m\u001b[0m \u001b[1m22s\u001b[0m 113ms/step - accuracy: 0.9397 - loss: 0.2917 - val_accuracy: 0.9440 - val_loss: 0.2809\n",
      "Epoch 5/10\n",
      "\u001b[1m191/191\u001b[0m \u001b[32m━━━━━━━━━━━━━━━━━━━━\u001b[0m\u001b[37m\u001b[0m \u001b[1m20s\u001b[0m 107ms/step - accuracy: 0.9438 - loss: 0.2713 - val_accuracy: 0.9441 - val_loss: 0.2790\n",
      "Epoch 6/10\n",
      "\u001b[1m191/191\u001b[0m \u001b[32m━━━━━━━━━━━━━━━━━━━━\u001b[0m\u001b[37m\u001b[0m \u001b[1m20s\u001b[0m 104ms/step - accuracy: 0.9471 - loss: 0.2524 - val_accuracy: 0.9457 - val_loss: 0.2731\n",
      "Epoch 7/10\n",
      "\u001b[1m191/191\u001b[0m \u001b[32m━━━━━━━━━━━━━━━━━━━━\u001b[0m\u001b[37m\u001b[0m \u001b[1m21s\u001b[0m 108ms/step - accuracy: 0.9506 - loss: 0.2357 - val_accuracy: 0.9452 - val_loss: 0.2819\n",
      "Epoch 8/10\n",
      "\u001b[1m191/191\u001b[0m \u001b[32m━━━━━━━━━━━━━━━━━━━━\u001b[0m\u001b[37m\u001b[0m \u001b[1m21s\u001b[0m 112ms/step - accuracy: 0.9533 - loss: 0.2259 - val_accuracy: 0.9462 - val_loss: 0.2828\n",
      "Epoch 9/10\n",
      "\u001b[1m191/191\u001b[0m \u001b[32m━━━━━━━━━━━━━━━━━━━━\u001b[0m\u001b[37m\u001b[0m \u001b[1m22s\u001b[0m 114ms/step - accuracy: 0.9543 - loss: 0.2170 - val_accuracy: 0.9457 - val_loss: 0.2859\n",
      "Epoch 10/10\n",
      "\u001b[1m191/191\u001b[0m \u001b[32m━━━━━━━━━━━━━━━━━━━━\u001b[0m\u001b[37m\u001b[0m \u001b[1m19s\u001b[0m 100ms/step - accuracy: 0.9579 - loss: 0.2015 - val_accuracy: 0.9450 - val_loss: 0.2839\n"
     ]
    },
    {
     "data": {
      "text/plain": [
       "<keras.src.callbacks.history.History at 0x13d812800>"
      ]
     },
     "execution_count": 9,
     "metadata": {},
     "output_type": "execute_result"
    }
   ],
   "source": [
    "NUM_CLASSES = 10\n",
    "\n",
    "model = build_punctuation_model(vocab_size=len(vocab), num_classes=NUM_CLASSES)\n",
    "\n",
    "model.fit(X_pad, y_pad, batch_size=32, epochs=10, validation_split=0.1)\n"
   ]
  },
  {
   "cell_type": "code",
   "execution_count": 17,
   "id": "78eefd7c",
   "metadata": {},
   "outputs": [
    {
     "name": "stdout",
     "output_type": "stream",
     "text": [
      "\u001b[1m212/212\u001b[0m \u001b[32m━━━━━━━━━━━━━━━━━━━━\u001b[0m\u001b[37m\u001b[0m \u001b[1m6s\u001b[0m 27ms/step\n"
     ]
    },
    {
     "data": {
      "image/png": "[encoded data removed]",
      "text/plain": [
       "<Figure size 1000x800 with 2 Axes>"
      ]
     },
     "metadata": {},
     "output_type": "display_data"
    },
    {
     "name": "stdout",
     "output_type": "stream",
     "text": [
      "\n",
      "分类报告（Precision / Recall / F1-Score）：\n",
      "\n",
      "              precision    recall  f1-score   support\n",
      "\n",
      "           空     0.9505    0.9791    0.9646    261935\n",
      "           ，     0.7382    0.6084    0.6670     27995\n",
      "           。     0.7530    0.5935    0.6638     10458\n",
      "           ？     0.6593    0.3859    0.4868       311\n",
      "           ！     0.7500    0.0944    0.1677       286\n",
      "           ；     1.0000    0.0025    0.0050       403\n",
      "           ：     0.9311    0.9462    0.9386      2027\n",
      "           ）     0.0000    0.0000    0.0000         3\n",
      "\n",
      "    accuracy                         0.9287    303418\n",
      "   macro avg     0.7228    0.4512    0.4867    303418\n",
      "weighted avg     0.9236    0.9287    0.9241    303418\n",
      "\n",
      "\n",
      "总体 Accuracy: 0.9287\n"
     ]
    },
    {
     "name": "stderr",
     "output_type": "stream",
     "text": [
      "/Users/xinleichen/miniconda3/envs/ancient-punc/lib/python3.10/site-packages/sklearn/metrics/_classification.py:1565: UndefinedMetricWarning: Precision is ill-defined and being set to 0.0 in labels with no predicted samples. Use `zero_division` parameter to control this behavior.\n",
      "  _warn_prf(average, modifier, f\"{metric.capitalize()} is\", len(result))\n",
      "/Users/xinleichen/miniconda3/envs/ancient-punc/lib/python3.10/site-packages/sklearn/metrics/_classification.py:1565: UndefinedMetricWarning: Precision is ill-defined and being set to 0.0 in labels with no predicted samples. Use `zero_division` parameter to control this behavior.\n",
      "  _warn_prf(average, modifier, f\"{metric.capitalize()} is\", len(result))\n",
      "/Users/xinleichen/miniconda3/envs/ancient-punc/lib/python3.10/site-packages/sklearn/metrics/_classification.py:1565: UndefinedMetricWarning: Precision is ill-defined and being set to 0.0 in labels with no predicted samples. Use `zero_division` parameter to control this behavior.\n",
      "  _warn_prf(average, modifier, f\"{metric.capitalize()} is\", len(result))\n"
     ]
    }
   ],
   "source": [
    "import matplotlib.pyplot as plt\n",
    "import numpy as np\n",
    "from sklearn.metrics import confusion_matrix, ConfusionMatrixDisplay, classification_report, accuracy_score\n",
    "\n",
    "# 设置中文字体（根据系统情况调整）\n",
    "plt.rcParams['font.sans-serif'] = ['Arial Unicode MS']  # 也可换成 SimHei、Noto Sans CJK SC\n",
    "plt.rcParams['axes.unicode_minus'] = False\n",
    "\n",
    "# ===== 1. 标点映射表 =====\n",
    "punctuation_map = {\n",
    "    \"，\": 1, \"。\": 2, \"？\": 3, \"！\": 4,\n",
    "    \"；\": 5, \"：\": 6, \"“\": 7, \"”\": 7,\n",
    "    \"‘\": 8, \"’\": 8, \"（\": 9, \"）\": 9\n",
    "}\n",
    "idx2punct = {v: k for k, v in punctuation_map.items()}\n",
    "idx2punct[0] = \"空\"\n",
    "\n",
    "# ===== 2. 模型预测 =====\n",
    "y_pred_prob = model.predict(X_pad)\n",
    "y_pred = np.argmax(y_pred_prob, axis=-1)\n",
    "\n",
    "# ===== 3. 扁平化并忽略 padding =====\n",
    "y_true_flat = []\n",
    "y_pred_flat = []\n",
    "\n",
    "for i in range(len(y_pad)):\n",
    "    for j in range(len(y_pad[i])):\n",
    "        if X_pad[i][j] != 0:\n",
    "            y_true_flat.append(y_pad[i][j][0])\n",
    "            y_pred_flat.append(y_pred[i][j])\n",
    "\n",
    "# ===== 4. 标签种类和名称 =====\n",
    "labels = sorted(set(y_true_flat + y_pred_flat))\n",
    "display_labels = [idx2punct.get(i, str(i)) for i in labels]\n",
    "\n",
    "# ===== 5. 混淆矩阵 =====\n",
    "cm = confusion_matrix(y_true_flat, y_pred_flat, labels=labels)\n",
    "disp = ConfusionMatrixDisplay(confusion_matrix=cm, display_labels=display_labels)\n",
    "\n",
    "fig, ax = plt.subplots(figsize=(10, 8))\n",
    "disp.plot(cmap=\"Blues\", ax=ax, xticks_rotation=45)\n",
    "\n",
    "# 设置字体\n",
    "for label in ax.get_xticklabels():\n",
    "    label.set_fontname(\"Arial Unicode MS\")\n",
    "for label in ax.get_yticklabels():\n",
    "    label.set_fontname(\"Arial Unicode MS\")\n",
    "\n",
    "plt.title(\"中文标点预测混淆矩阵\", fontname=\"Arial Unicode MS\")\n",
    "plt.tight_layout()\n",
    "plt.show()\n",
    "\n",
    "# ===== 6. 打印 F1-score 等指标 =====\n",
    "target_names = display_labels\n",
    "print(\"\\n分类报告（Precision / Recall / F1-Score）：\\n\")\n",
    "print(classification_report(y_true_flat, y_pred_flat, labels=labels, target_names=target_names, digits=4))\n",
    "\n",
    "# ===== 7. 准确率 =====\n",
    "acc = accuracy_score(y_true_flat, y_pred_flat)\n",
    "print(f\"\\n总体 Accuracy: {acc:.4f}\")\n"
   ]
  },
  {
   "cell_type": "code",
   "execution_count": 12,
   "id": "950296ee",
   "metadata": {},
   "outputs": [
    {
     "name": "stderr",
     "output_type": "stream",
     "text": [
      "WARNING:absl:You are saving your model as an HDF5 file via `model.save()` or `keras.saving.save_model(model)`. This file format is considered legacy. We recommend using instead the native Keras format, e.g. `model.save('my_model.keras')` or `keras.saving.save_model(model, 'my_model.keras')`. \n"
     ]
    }
   ],
   "source": [
    "model.save(\"model_10.h5\")\n",
    "\n",
    "with open(\"char2idx.json\", \"r\", encoding=\"utf-8\") as f:\n",
    "    char2idx = json.load(f)\n"
   ]
  },
  {
   "cell_type": "code",
   "execution_count": 13,
   "id": "e1268fde",
   "metadata": {},
   "outputs": [],
   "source": [
    "# 如果你已经有 punctuation_map，就可以自动构造反向映射：\n",
    "punctuation_id2char = {0: \"\", 1: \"，\", 2: \"。\", 3: \"？\", 4: \"！\", 5: \"；\", 6: \"：\", 7: \"”\", 8: \"’\", 9: \"）\"}\n",
    "\n",
    "# 记录左右标点状态（用于自动匹配开/闭）\n",
    "quote_states = {\n",
    "    7: True,  # True 表示下一次是左引号 “\n",
    "    8: True,  # ‘\n",
    "    9: True   # （\n",
    "}\n",
    "\n",
    "# 推理时使用这个函数\n",
    "def resolve_punctuation(label_id):\n",
    "    if label_id not in [7, 8, 9]:\n",
    "        # 非对称标点直接映射\n",
    "        return {\n",
    "            1: \"，\", 2: \"。\", 3: \"？\", 4: \"！\", 5: \"；\", 6: \"：\"\n",
    "        }.get(label_id, \"\")\n",
    "    \n",
    "    # 对称标点，根据状态返回左或右\n",
    "    if label_id == 7:\n",
    "        result = \"“\" if quote_states[7] else \"”\"\n",
    "        quote_states[7] = not quote_states[7]\n",
    "        return result\n",
    "    elif label_id == 8:\n",
    "        result = \"‘\" if quote_states[8] else \"’\"\n",
    "        quote_states[8] = not quote_states[8]\n",
    "        return result\n",
    "    elif label_id == 9:\n",
    "        result = \"（\" if quote_states[9] else \"）\"\n",
    "        quote_states[9] = not quote_states[9]\n",
    "        return result\n"
   ]
  },
  {
   "cell_type": "code",
   "execution_count": 18,
   "id": "b6b015f0",
   "metadata": {},
   "outputs": [],
   "source": [
    "from tensorflow.keras.preprocessing.sequence import pad_sequences\n",
    "import numpy as np\n",
    "\n",
    "def predict_punctuation(text, model, char2idx, punctuation_id2char, max_len=200):\n",
    "    chars = list(text)\n",
    "    input_ids = [char2idx.get(ch, 0) for ch in chars]\n",
    "    input_ids = pad_sequences([input_ids], maxlen=max_len, padding='post')\n",
    "\n",
    "    preds = model.predict(input_ids)[0]  # shape: (seq_len, num_classes)\n",
    "    pred_classes = np.argmax(preds, axis=-1)\n",
    "\n",
    "    # 还原带标点的文本\n",
    "    result = \"\"\n",
    "    for i, ch in enumerate(chars):\n",
    "        result += ch\n",
    "        label = pred_classes[i]\n",
    "        if label != 0:  # 需要加标点\n",
    "            result += resolve_punctuation(label)\n",
    "\n",
    "    return result\n"
   ]
  },
  {
   "cell_type": "code",
   "execution_count": 19,
   "id": "2051a397",
   "metadata": {},
   "outputs": [
    {
     "name": "stdout",
     "output_type": "stream",
     "text": [
      "\u001b[1m1/1\u001b[0m \u001b[32m━━━━━━━━━━━━━━━━━━━━\u001b[0m\u001b[37m\u001b[0m \u001b[1m0s\u001b[0m 37ms/step\n",
      "原文（无标点）: 臣亮言先帝创业未半而中道崩殂今天下三分益州疲弊\n",
      "预测（加标点）: 臣亮言先帝创业未半而，中道崩殂今，天下三分益，州疲弊\n"
     ]
    }
   ],
   "source": [
    "test_text = \"臣亮言先帝创业未半而中道崩殂今天下三分益州疲弊\"\n",
    "output_text = predict_punctuation(test_text, model, char2idx, punctuation_id2char)\n",
    "print(\"原文（无标点）:\", test_text)\n",
    "print(\"预测（加标点）:\", output_text)\n"
   ]
  },
  {
   "cell_type": "code",
   "execution_count": 20,
   "id": "cd084937",
   "metadata": {},
   "outputs": [
    {
     "name": "stdout",
     "output_type": "stream",
     "text": [
      "\u001b[1m1/1\u001b[0m \u001b[32m━━━━━━━━━━━━━━━━━━━━\u001b[0m\u001b[37m\u001b[0m \u001b[1m0s\u001b[0m 38ms/step\n",
      "原文（无标点）: 亲贤臣远小人此先汉所以兴隆也亲小人远贤臣此后汉所以倾颓也\n",
      "预测（加标点）: 亲贤臣远小人此，先汉所以兴隆也亲小。人远贤臣此后汉所以倾颓也\n"
     ]
    }
   ],
   "source": [
    "test_text = \"亲贤臣远小人此先汉所以兴隆也亲小人远贤臣此后汉所以倾颓也\"\n",
    "output_text = predict_punctuation(test_text, model, char2idx, punctuation_id2char)\n",
    "print(\"原文（无标点）:\", test_text)\n",
    "print(\"预测（加标点）:\", output_text)"
   ]
  },
  {
   "cell_type": "code",
   "execution_count": null,
   "id": "3470ab8d",
   "metadata": {},
   "outputs": [],
   "source": []
  },
  {
   "cell_type": "code",
   "execution_count": null,
   "id": "664810d9",
   "metadata": {},
   "outputs": [],
   "source": []
  },
  {
   "cell_type": "code",
   "execution_count": null,
   "id": "0aff9467",
   "metadata": {},
   "outputs": [],
   "source": []
  }
 ],
 "metadata": {
  "kernelspec": {
   "display_name": "ancient-punc",
   "language": "python",
   "name": "python3"
  },
  "language_info": {
   "codemirror_mode": {
    "name": "ipython",
    "version": 3
   },
   "file_extension": ".py",
   "mimetype": "text/x-python",
   "name": "python",
   "nbconvert_exporter": "python",
   "pygments_lexer": "ipython3",
   "version": "3.10.16"
  }
 },
 "nbformat": 4,
 "nbformat_minor": 5
}
