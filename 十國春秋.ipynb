{
 "cells": [
  {
   "cell_type": "code",
   "execution_count": 50,
   "id": "f1650bf5",
   "metadata": {},
   "outputs": [],
   "source": [
    "import re\n",
    "import json\n",
    "import os\n",
    "\n",
    "def preprocess(text):\n",
    "    punctuations = \"，。！？；：“”（）\"\n",
    "    input_text = \"\"\n",
    "    punctuation_indices = []\n",
    "    punctuation_types = []\n",
    "\n",
    "    for idx, char in enumerate(text):\n",
    "        if char in punctuations:\n",
    "            punctuation_indices.append(len(input_text))\n",
    "            punctuation_types.append(char)\n",
    "        else:\n",
    "            input_text += char\n",
    "\n",
    "    return input_text, punctuation_indices, punctuation_types\n"
   ]
  },
  {
   "cell_type": "code",
   "execution_count": 74,
   "id": "2649090c",
   "metadata": {},
   "outputs": [],
   "source": [
    "import os\n",
    "import json\n",
    "\n",
    "def process_folder(folder_path, output_file):\n",
    "    data_points = []\n",
    "\n",
    "    for filename in os.listdir(folder_path):\n",
    "        if filename.endswith(\".txt\"):\n",
    "            file_path = os.path.join(folder_path, filename)\n",
    "            with open(file_path, 'r', encoding='utf-8') as f:\n",
    "                lines = f.readlines()\n",
    "                for i, line in enumerate(lines):\n",
    "                    line = line.strip()\n",
    "                    if not line:\n",
    "                        continue\n",
    "                    input_text, indices, types = preprocess(line)\n",
    "                    data_point = {\n",
    "                        \"filename\": filename,\n",
    "                        \"line_number\": i + 1,\n",
    "                        \"input_text\": input_text,\n",
    "                        \"punctuation_indices\": indices,\n",
    "                        \"punctuation_types\": types\n",
    "                    }\n",
    "                    data_points.append(data_point)\n",
    "\n",
    "    # Écriture dans le fichier JSONL\n",
    "    with open(output_file, 'w', encoding='utf-8') as out_f:\n",
    "        for dp in data_points:\n",
    "            out_f.write(json.dumps(dp, ensure_ascii=False) + \"\\n\")\n",
    "\n",
    "    # Affichage du résumé du traitement\n",
    "    print(f\"{len(data_points)} points de données traités, fichier de sortie : {output_file}\")\n"
   ]
  },
  {
   "cell_type": "code",
   "execution_count": 75,
   "id": "baf09c72",
   "metadata": {},
   "outputs": [
    {
     "name": "stdout",
     "output_type": "stream",
     "text": [
      "6575 points de données traités, fichier de sortie : processed_data_sgcq.jsonl\n"
     ]
    }
   ],
   "source": [
    "if __name__ == \"__main__\":\n",
    "    folder_path = \"Corpus/十國春秋_cleaned\"\n",
    "    output_file = \"processed_data_sgcq.jsonl\"\n",
    "    process_folder(folder_path, output_file)"
   ]
  },
  {
   "cell_type": "code",
   "execution_count": 53,
   "id": "eb3f1134",
   "metadata": {},
   "outputs": [
    {
     "name": "stderr",
     "output_type": "stream",
     "text": [
      "Processing: 6575it [00:00, 102482.96it/s]\n"
     ]
    }
   ],
   "source": [
    "import json\n",
    "from tqdm import tqdm\n",
    "\n",
    "# Mapping des signes de ponctuation en étiquettes numériques\n",
    "punctuation_map = {\n",
    "    \"，\": 1,\n",
    "    \"。\": 2,\n",
    "    # \"？\": 3,\n",
    "    # \"！\": 4,\n",
    "    # \"；\": 5,\n",
    "    \"：\": 3,\n",
    "    # \"“\": 7,\n",
    "    # \"”\": 7,\n",
    "    # \"‘\": 8,\n",
    "    # \"’\": 8,\n",
    "    # \"（\": 9,\n",
    "    # \"）\": 9\n",
    "}\n",
    "\n",
    "# Construction du jeu de données au niveau caractère\n",
    "def build_dataset(jsonl_path, vocab=None):\n",
    "    all_X = []\n",
    "    all_y = []\n",
    "    char2idx = {} if vocab is None else vocab\n",
    "    idx = 1  # 0 réservé pour le padding\n",
    "\n",
    "    with open(jsonl_path, 'r', encoding='utf-8') as f:\n",
    "        for line in tqdm(f, desc=\"Processing\"):\n",
    "            data = json.loads(line)\n",
    "            input_text = data[\"input_text\"]\n",
    "            punct_indices = data[\"punctuation_indices\"]\n",
    "            punct_types = data[\"punctuation_types\"]\n",
    "\n",
    "            # Encodage de input_text en séquence d’IDs de caractères\n",
    "            X = []\n",
    "            for ch in input_text:\n",
    "                if vocab is None:\n",
    "                    if ch not in char2idx:\n",
    "                        char2idx[ch] = idx\n",
    "                        idx += 1\n",
    "                X.append(char2idx.get(ch, 0))  # 0 pour caractère hors vocabulaire\n",
    "\n",
    "            # Construction de la séquence d’étiquettes alignée caractère par caractère\n",
    "            y = [0] * len(input_text)\n",
    "            for i, punct in zip(punct_indices, punct_types):\n",
    "                if i < len(y):  # Vérification de sécurité\n",
    "                    y[i] = punctuation_map.get(punct, 0)  # ponctuation inconnue → 0\n",
    "\n",
    "            all_X.append(X)\n",
    "            all_y.append(y)\n",
    "\n",
    "    return all_X, all_y, char2idx\n",
    "\n",
    "# Appel de la fonction pour construire les données\n",
    "X, y, char2idx = build_dataset(\"processed_data_sgcq.jsonl\")\n",
    "\n",
    "# Sauvegarde du dictionnaire char2idx\n",
    "with open(\"char2idx.json\", \"w\", encoding=\"utf-8\") as f:\n",
    "    json.dump(char2idx, f, ensure_ascii=False)\n"
   ]
  },
  {
   "cell_type": "code",
   "execution_count": 54,
   "id": "d1de9bf2",
   "metadata": {},
   "outputs": [
    {
     "name": "stderr",
     "output_type": "stream",
     "text": [
      "Processing: 0it [00:00, ?it/s]"
     ]
    },
    {
     "name": "stderr",
     "output_type": "stream",
     "text": [
      "Processing: 6575it [00:00, 70098.75it/s]"
     ]
    },
    {
     "name": "stdout",
     "output_type": "stream",
     "text": [
      "Nombre d'échantillons : 6575\n",
      "Première séquence d'entrée (IDs de caractères) : [1, 2, 3, 4, 5, 6, 7, 8, 9, 10, 11, 12, 13, 14, 15, 16, 17, 18, 7, 19]\n",
      "Première séquence d'étiquettes : [0, 0, 0, 0, 0, 1, 0, 0, 2, 0, 0, 0, 0, 0, 0, 0, 0, 0, 0, 2]\n",
      "Taille du vocabulaire : 5139\n"
     ]
    },
    {
     "name": "stderr",
     "output_type": "stream",
     "text": [
      "\n"
     ]
    }
   ],
   "source": [
    "jsonl_file = \"processed_data_sgcq.jsonl\"\n",
    "X, y, vocab = build_dataset(jsonl_file)\n",
    "\n",
    "print(\"Nombre d'échantillons :\", len(X))\n",
    "print(\"Première séquence d'entrée (IDs de caractères) :\", X[0])\n",
    "print(\"Première séquence d'étiquettes :\", y[0])\n",
    "print(\"Taille du vocabulaire :\", len(vocab))\n"
   ]
  },
  {
   "cell_type": "code",
   "execution_count": 55,
   "id": "40afcc84",
   "metadata": {},
   "outputs": [],
   "source": [
    "# !pip install tensorflow"
   ]
  },
  {
   "cell_type": "code",
   "execution_count": 56,
   "id": "c5ebba23",
   "metadata": {},
   "outputs": [
    {
     "name": "stderr",
     "output_type": "stream",
     "text": [
      "Processing: 0it [00:00, ?it/s]"
     ]
    },
    {
     "name": "stderr",
     "output_type": "stream",
     "text": [
      "Processing: 6575it [00:00, 73294.25it/s]\n"
     ]
    }
   ],
   "source": [
    "from tensorflow.keras.models import Model\n",
    "from tensorflow.keras.layers import Input, Embedding, Bidirectional, LSTM, Dense, TimeDistributed, Dropout\n",
    "from tensorflow.keras.optimizers import Adam\n",
    "from tensorflow.keras.preprocessing.sequence import pad_sequences\n",
    "import numpy as np\n",
    "\n",
    "def build_punctuation_model(vocab_size, num_classes, embedding_dim=128, lstm_units=128):\n",
    "    # Définition de l’entrée du modèle : séquence d’IDs de caractères de longueur variable\n",
    "    input_seq = Input(shape=(None,), dtype='int32')  # [batch_size, seq_len]\n",
    "\n",
    "    # Couche d’embedding pour transformer les IDs en vecteurs denses\n",
    "    x = Embedding(input_dim=vocab_size + 1,  # +1 pour l’index réservé au padding\n",
    "                  output_dim=embedding_dim,\n",
    "                  mask_zero=True)(input_seq)\n",
    "    # LSTM bidirectionnel pour capturer le contexte avant et arrière\n",
    "    x = Bidirectional(LSTM(lstm_units, return_sequences=True))(x)\n",
    "    # Couche de Dropout pour réduire le surapprentissage\n",
    "    x = Dropout(0.4)(x)\n",
    "    # Couche Dense appliquée à chaque pas de temps pour prédire la classe de ponctuation\n",
    "    x = TimeDistributed(Dense(num_classes, activation='softmax'))(x)\n",
    "\n",
    "    # Compilation du modèle avec l’optimiseur Adam et une perte catégorielle\n",
    "    model = Model(inputs=input_seq, outputs=x)\n",
    "    model.compile(optimizer=Adam(learning_rate=1e-3),\n",
    "                  loss='sparse_categorical_crossentropy',\n",
    "                  metrics=['accuracy'])\n",
    "    return model\n",
    "\n",
    "# Construction des données d’entraînement\n",
    "X, y, char2idx = build_dataset(\"processed_data_sgcq.jsonl\")\n",
    "# Calcul de la longueur maximale des séquences pour le padding\n",
    "max_len = max(len(seq) for seq in X)\n",
    "# Padding des séquences d’entrée et des étiquettes\n",
    "X_pad = pad_sequences(X, maxlen=max_len, padding='post')\n",
    "y_pad = pad_sequences(y, maxlen=max_len, padding='post')\n",
    "# Ajout d’une dimension pour la compatibilité avec 'sparse_categorical_crossentropy'\n",
    "y_pad = np.expand_dims(y_pad, -1)\n"
   ]
  },
  {
   "cell_type": "code",
   "execution_count": 57,
   "id": "f5ba809c",
   "metadata": {},
   "outputs": [],
   "source": [
    "NUM_CLASSES = 4\n",
    "\n",
    "model = build_punctuation_model(vocab_size=len(vocab), num_classes=NUM_CLASSES)\n"
   ]
  },
  {
   "cell_type": "code",
   "execution_count": 58,
   "id": "e75a1053",
   "metadata": {},
   "outputs": [
    {
     "name": "stdout",
     "output_type": "stream",
     "text": [
      "Epoch 1/20\n",
      "\u001b[1m185/185\u001b[0m \u001b[32m━━━━━━━━━━━━━━━━━━━━\u001b[0m\u001b[37m\u001b[0m \u001b[1m44s\u001b[0m 221ms/step - accuracy: 0.9611 - loss: 0.6502 - val_accuracy: 0.9703 - val_loss: 0.3931\n",
      "Epoch 2/20\n",
      "\u001b[1m185/185\u001b[0m \u001b[32m━━━━━━━━━━━━━━━━━━━━\u001b[0m\u001b[37m\u001b[0m \u001b[1m57s\u001b[0m 306ms/step - accuracy: 0.9691 - loss: 0.3710 - val_accuracy: 0.9747 - val_loss: 0.3100\n",
      "Epoch 3/20\n",
      "\u001b[1m185/185\u001b[0m \u001b[32m━━━━━━━━━━━━━━━━━━━━\u001b[0m\u001b[37m\u001b[0m \u001b[1m49s\u001b[0m 267ms/step - accuracy: 0.9726 - loss: 0.3040 - val_accuracy: 0.9757 - val_loss: 0.2871\n",
      "Epoch 4/20\n",
      "\u001b[1m185/185\u001b[0m \u001b[32m━━━━━━━━━━━━━━━━━━━━\u001b[0m\u001b[37m\u001b[0m \u001b[1m50s\u001b[0m 272ms/step - accuracy: 0.9757 - loss: 0.2682 - val_accuracy: 0.9765 - val_loss: 0.2776\n",
      "Epoch 5/20\n",
      "\u001b[1m185/185\u001b[0m \u001b[32m━━━━━━━━━━━━━━━━━━━━\u001b[0m\u001b[37m\u001b[0m \u001b[1m51s\u001b[0m 277ms/step - accuracy: 0.9770 - loss: 0.2474 - val_accuracy: 0.9767 - val_loss: 0.2751\n",
      "Epoch 6/20\n",
      "\u001b[1m185/185\u001b[0m \u001b[32m━━━━━━━━━━━━━━━━━━━━\u001b[0m\u001b[37m\u001b[0m \u001b[1m54s\u001b[0m 294ms/step - accuracy: 0.9786 - loss: 0.2324 - val_accuracy: 0.9766 - val_loss: 0.2762\n",
      "Epoch 7/20\n",
      "\u001b[1m185/185\u001b[0m \u001b[32m━━━━━━━━━━━━━━━━━━━━\u001b[0m\u001b[37m\u001b[0m \u001b[1m55s\u001b[0m 299ms/step - accuracy: 0.9798 - loss: 0.2182 - val_accuracy: 0.9762 - val_loss: 0.2893\n"
     ]
    }
   ],
   "source": [
    "from tensorflow.keras.callbacks import EarlyStopping\n",
    "\n",
    "early_stop = EarlyStopping(monitor='val_loss', patience=2, restore_best_weights=True)\n",
    "history = model.fit(X_pad, y_pad, batch_size=32, epochs=20, validation_split=0.1, callbacks=[early_stop])\n"
   ]
  },
  {
   "cell_type": "code",
   "execution_count": 66,
   "id": "78eefd7c",
   "metadata": {},
   "outputs": [
    {
     "name": "stdout",
     "output_type": "stream",
     "text": [
      "\u001b[1m206/206\u001b[0m \u001b[32m━━━━━━━━━━━━━━━━━━━━\u001b[0m\u001b[37m\u001b[0m \u001b[1m13s\u001b[0m 64ms/step\n"
     ]
    },
    {
     "data": {
      "image/png": "[encoded data removed]",
      "text/plain": [
       "<Figure size 1000x800 with 2 Axes>"
      ]
     },
     "metadata": {},
     "output_type": "display_data"
    },
    {
     "name": "stdout",
     "output_type": "stream",
     "text": [
      "\n",
      "Rapport de classification (Précision / Rappel / F1-Score) :\n",
      "\n",
      "              precision    recall  f1-score   support\n",
      "\n",
      "        vide     0.9346    0.9777    0.9556    255512\n",
      "           ，     0.7006    0.4854    0.5735     27987\n",
      "           。     0.7282    0.5100    0.5999     10450\n",
      "           ：     0.9383    0.9131    0.9255      1967\n",
      "\n",
      "    accuracy                         0.9142    295916\n",
      "   macro avg     0.8254    0.7216    0.7637    295916\n",
      "weighted avg     0.9052    0.9142    0.9067    295916\n",
      "\n",
      "\n",
      "Exactitude globale : 0.9142\n"
     ]
    }
   ],
   "source": [
    "import matplotlib.pyplot as plt\n",
    "import numpy as np\n",
    "from sklearn.metrics import confusion_matrix, ConfusionMatrixDisplay, classification_report, accuracy_score\n",
    "\n",
    "# Configuration des polices pour le chinois (ajuster selon le système)\n",
    "plt.rcParams['font.sans-serif'] = ['Arial Unicode MS']  # Peut aussi être SimHei, Noto Sans CJK SC\n",
    "plt.rcParams['axes.unicode_minus'] = False\n",
    "\n",
    "# ===== 1. Table de correspondance des ponctuations =====\n",
    "punctuation_map = {\n",
    "    \"，\": 1,\n",
    "    \"。\": 2,\n",
    "    # \"？\": 3,\n",
    "    # \"！\": 4,\n",
    "    # \"；\": 5,\n",
    "    \"：\": 3,\n",
    "    # \"“\": 7,\n",
    "    # \"”\": 7,\n",
    "    # \"‘\": 8,\n",
    "    # \"’\": 8,\n",
    "    # \"（\": 9,\n",
    "    # \"）\": 9\n",
    "}\n",
    "idx2punct = {v: k for k, v in punctuation_map.items()}\n",
    "idx2punct[0] = \"vide\"\n",
    "\n",
    "# ===== 2. Prédiction du modèle =====\n",
    "y_pred_prob = model.predict(X_pad)\n",
    "y_pred = np.argmax(y_pred_prob, axis=-1)\n",
    "\n",
    "# ===== 3. Aplatissage et omission du padding =====\n",
    "y_true_flat = []\n",
    "y_pred_flat = []\n",
    "\n",
    "for i in range(len(y_pad)):\n",
    "    for j in range(len(y_pad[i])):\n",
    "        if X_pad[i][j] != 0:\n",
    "            y_true_flat.append(y_pad[i][j][0])\n",
    "            y_pred_flat.append(y_pred[i][j])\n",
    "\n",
    "# ===== 4. Types et noms des étiquettes =====\n",
    "labels = sorted(set(y_true_flat + y_pred_flat))\n",
    "display_labels = [idx2punct.get(i, str(i)) for i in labels]\n",
    "\n",
    "# ===== 5. Matrice de confusion =====\n",
    "cm = confusion_matrix(y_true_flat, y_pred_flat, labels=labels)\n",
    "disp = ConfusionMatrixDisplay(confusion_matrix=cm, display_labels=display_labels)\n",
    "\n",
    "fig, ax = plt.subplots(figsize=(10, 8))\n",
    "disp.plot(cmap=\"Blues\", ax=ax, xticks_rotation=45)\n",
    "\n",
    "# Configuration des polices\n",
    "for label in ax.get_xticklabels():\n",
    "    label.set_fontname(\"Arial Unicode MS\")\n",
    "for label in ax.get_yticklabels():\n",
    "    label.set_fontname(\"Arial Unicode MS\")\n",
    "\n",
    "plt.title(\"中文标点预测混淆矩阵\", fontname=\"Arial Unicode MS\")\n",
    "plt.tight_layout()\n",
    "plt.show()\n",
    "\n",
    "# ===== 6. Affichage du rapport de classification (Précision / Rappel / F1-Score) =====\n",
    "target_names = display_labels\n",
    "print(\"\\nRapport de classification (Précision / Rappel / F1-Score) :\\n\")\n",
    "print(classification_report(y_true_flat, y_pred_flat, labels=labels, target_names=target_names, digits=4))\n",
    "\n",
    "# ===== 7. Exactitude globale =====\n",
    "acc = accuracy_score(y_true_flat, y_pred_flat)\n",
    "print(f\"\\nExactitude globale : {acc:.4f}\")\n"
   ]
  },
  {
   "cell_type": "code",
   "execution_count": 67,
   "id": "a1410723",
   "metadata": {},
   "outputs": [
    {
     "data": {
      "image/png": "[encoded data removed]",
      "text/plain": [
       "<Figure size 640x480 with 1 Axes>"
      ]
     },
     "metadata": {},
     "output_type": "display_data"
    },
    {
     "data": {
      "image/png": "[encoded data removed]",
      "text/plain": [
       "<Figure size 640x480 with 1 Axes>"
      ]
     },
     "metadata": {},
     "output_type": "display_data"
    }
   ],
   "source": [
    "import matplotlib.pyplot as plt\n",
    "\n",
    "# Supposons que 'history' soit l’objet retourné par l’entraînement Keras\n",
    "plt.plot(history.history['accuracy'], label='train acc')\n",
    "plt.plot(history.history['val_accuracy'], label='val acc')\n",
    "plt.legend()\n",
    "plt.title(\"Évolution de la précision pendant l'entraînement\")\n",
    "plt.show()\n",
    "\n",
    "plt.plot(history.history['loss'], label='train loss')\n",
    "plt.plot(history.history['val_loss'], label='val loss')\n",
    "plt.legend()\n",
    "plt.title(\"Évolution de la perte pendant l'entraînement\")\n",
    "plt.show()\n"
   ]
  },
  {
   "cell_type": "code",
   "execution_count": 68,
   "id": "950296ee",
   "metadata": {},
   "outputs": [
    {
     "name": "stderr",
     "output_type": "stream",
     "text": [
      "WARNING:absl:You are saving your model as an HDF5 file via `model.save()` or `keras.saving.save_model(model)`. This file format is considered legacy. We recommend using instead the native Keras format, e.g. `model.save('my_model.keras')` or `keras.saving.save_model(model, 'my_model.keras')`. \n"
     ]
    }
   ],
   "source": [
    "model.save(\"model_simple.h5\")\n",
    "\n",
    "with open(\"char2idx.json\", \"r\", encoding=\"utf-8\") as f:\n",
    "    char2idx = json.load(f)\n"
   ]
  },
  {
   "cell_type": "code",
   "execution_count": 69,
   "id": "e1268fde",
   "metadata": {},
   "outputs": [],
   "source": [
    "# Si vous avez déjà punctuation_map, vous pouvez automatiquement construire la correspondance inverse :\n",
    "punctuation_id2char = {0: \"\", 1: \"，\", 2: \"。\", \n",
    "                    #    3: \"？\", 4: \"！\", 5: \"；\", \n",
    "                       3: \"：\", \n",
    "                    #    7: \"”\", 8: \"’\", 9: \"）\"\n",
    "                    }\n",
    "\n",
    "# Suivi des états des ponctuations gauche/droite (pour appariement automatique ouverture/fermeture)\n",
    "# quote_states = {\n",
    "#     7: True,  # True signifie que la prochaine fois c’est une guillemet ouvrante “\n",
    "#     8: True,  # ‘\n",
    "#     9: True   # （\n",
    "# }\n",
    "\n",
    "# Fonction utilisée lors de l'inférence\n",
    "def resolve_punctuation(label_id):\n",
    "    if label_id not in [7, 8, 9]:\n",
    "        # Ponctuations asymétriques : correspondance directe\n",
    "        return {\n",
    "            1: \"，\", 2: \"。\", \n",
    "            # 3: \"？\", 4: \"！\", 5: \"；\", \n",
    "            3: \"：\"\n",
    "        }.get(label_id, \"\")\n",
    "    \n",
    "    # # Ponctuations symétriques : selon l'état, renvoyer ouverture ou fermeture\n",
    "    # if label_id == 7:\n",
    "    #     result = \"“\" if quote_states[7] else \"”\"\n",
    "    #     quote_states[7] = not quote_states[7]\n",
    "    #     return result\n",
    "    # elif label_id == 8:\n",
    "    #     result = \"‘\" if quote_states[8] else \"’\"\n",
    "    #     quote_states[8] = not quote_states[8]\n",
    "    #     return result\n",
    "    # elif label_id == 9:\n",
    "    #     result = \"（\" if quote_states[9] else \"）\"\n",
    "    #     quote_states[9] = not quote_states[9]\n",
    "    #     return result\n"
   ]
  },
  {
   "cell_type": "code",
   "execution_count": 70,
   "id": "b6b015f0",
   "metadata": {},
   "outputs": [],
   "source": [
    "from tensorflow.keras.preprocessing.sequence import pad_sequences\n",
    "import numpy as np\n",
    "\n",
    "def predict_punctuation(text, model, char2idx, punctuation_id2char, max_len=200):\n",
    "    # Conversion du texte en liste de caractères\n",
    "    chars = list(text)\n",
    "    # Encodage des caractères en IDs, 0 si caractère hors vocabulaire\n",
    "    input_ids = [char2idx.get(ch, 0) for ch in chars]\n",
    "    # Padding de la séquence d’IDs à la longueur max_len\n",
    "    input_ids = pad_sequences([input_ids], maxlen=max_len, padding='post')\n",
    "\n",
    "    # Prédiction des probabilités, puis sélection des classes\n",
    "    preds = model.predict(input_ids)[0]  # shape: (seq_len, num_classes)\n",
    "    pred_classes = np.argmax(preds, axis=-1)\n",
    "\n",
    "    # Reconstruction du texte avec ponctuation insérée\n",
    "    result = \"\"\n",
    "    for i, ch in enumerate(chars):\n",
    "        result += ch\n",
    "        label = pred_classes[i]\n",
    "        if label != 0:  # si une ponctuation est prédite\n",
    "            result += resolve_punctuation(label)\n",
    "\n",
    "    return result\n"
   ]
  },
  {
   "cell_type": "code",
   "execution_count": 71,
   "id": "2051a397",
   "metadata": {},
   "outputs": [
    {
     "name": "stdout",
     "output_type": "stream",
     "text": [
      "\u001b[1m1/1\u001b[0m \u001b[32m━━━━━━━━━━━━━━━━━━━━\u001b[0m\u001b[37m\u001b[0m \u001b[1m0s\u001b[0m 39ms/step\n",
      "原文（无标点）: 先帝創業未半而中道崩殂今天下三分益州疲弊\n",
      "预测（加标点）: 先帝創業未半而，中道崩殂今，天下三分益，州疲弊\n"
     ]
    }
   ],
   "source": [
    "test_text = \"先帝創業未半而中道崩殂今天下三分益州疲弊\"\n",
    "output_text = predict_punctuation(test_text, model, char2idx, punctuation_id2char)\n",
    "print(\"原文（无标点）:\", test_text)\n",
    "print(\"预测（加标点）:\", output_text)\n"
   ]
  },
  {
   "cell_type": "code",
   "execution_count": 72,
   "id": "cd084937",
   "metadata": {},
   "outputs": [
    {
     "name": "stdout",
     "output_type": "stream",
     "text": [
      "\u001b[1m1/1\u001b[0m \u001b[32m━━━━━━━━━━━━━━━━━━━━\u001b[0m\u001b[37m\u001b[0m \u001b[1m0s\u001b[0m 59ms/step\n",
      "原文（无标点）: 親賢臣遠小人此先漢所以興隆也親小人遠賢臣此後漢所以傾頹也\n",
      "预测（加标点）: 親賢臣遠小人此先漢所以興隆也親。小人遠賢臣此後漢所以傾頹也\n"
     ]
    }
   ],
   "source": [
    "test_text = \"親賢臣遠小人此先漢所以興隆也親小人遠賢臣此後漢所以傾頹也\"\n",
    "output_text = predict_punctuation(test_text, model, char2idx, punctuation_id2char)\n",
    "print(\"原文（无标点）:\", test_text)\n",
    "print(\"预测（加标点）:\", output_text)"
   ]
  },
  {
   "cell_type": "code",
   "execution_count": null,
   "id": "664810d9",
   "metadata": {},
   "outputs": [],
   "source": []
  },
  {
   "cell_type": "code",
   "execution_count": null,
   "id": "0aff9467",
   "metadata": {},
   "outputs": [],
   "source": []
  }
 ],
 "metadata": {
  "kernelspec": {
   "display_name": "ancient-punc",
   "language": "python",
   "name": "python3"
  },
  "language_info": {
   "codemirror_mode": {
    "name": "ipython",
    "version": 3
   },
   "file_extension": ".py",
   "mimetype": "text/x-python",
   "name": "python",
   "nbconvert_exporter": "python",
   "pygments_lexer": "ipython3",
   "version": "3.10.16"
  }
 },
 "nbformat": 4,
 "nbformat_minor": 5
}
